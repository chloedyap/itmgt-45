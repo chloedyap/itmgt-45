{
 "cells": [
  {
   "cell_type": "markdown",
   "id": "a8913d19",
   "metadata": {},
   "source": [
    "## Intermediate Individual Assignment"
   ]
  },
  {
   "cell_type": "code",
   "execution_count": 22,
   "id": "f0424b48",
   "metadata": {},
   "outputs": [
    {
     "name": "stdout",
     "output_type": "stream",
     "text": [
      "A\n",
      "C\n",
      "A\n",
      "C\n",
      " \n"
     ]
    }
   ],
   "source": [
    "def shift_letter(letter, shift):\n",
    "    '''Shift Letter. \n",
    "    4 points.\n",
    "    \n",
    "    Shift a letter right by the given number.\n",
    "    Wrap the letter around if it reaches the end of the alphabet.\n",
    "\n",
    "    Examples:\n",
    "    shift_letter(\"A\", 0) -> \"A\"\n",
    "    shift_letter(\"A\", 2) -> \"C\"\n",
    "    shift_letter(\"Z\", 1) -> \"A\"\n",
    "    shift_letter(\"X\", 5) -> \"C\"\n",
    "    shift_letter(\" \", _) -> \" \"\n",
    "\n",
    "    *Note: the single underscore `_` is used to acknowledge the presence\n",
    "        of a value without caring about its contents.\n",
    "\n",
    "    Parameters\n",
    "    ----------\n",
    "    letter: str\n",
    "        a single uppercase English letter, or a space.\n",
    "    shift: int\n",
    "        the number by which to shift the letter. \n",
    "\n",
    "    Returns\n",
    "    -------\n",
    "    str\n",
    "        the letter, shifted appropriately, if a letter.\n",
    "        a single space if the original letter was a space.\n",
    "    '''\n",
    "    # Replace `pass` with your code. \n",
    "    # Stay within the function. Only use the parameters as input. The function should return your answer.\n",
    "    \n",
    "    if letter == \" \":\n",
    "        return \" \"\n",
    "    else:\n",
    "        shifted_ascii = ord(letter) + shift\n",
    "        if shifted_ascii > ord(\"Z\"):\n",
    "            shifted_ascii -= 26\n",
    "        return chr(shifted_ascii)\n",
    "    \n",
    "print(shift_letter(\"A\", 0))\n",
    "print(shift_letter(\"A\", 2)) \n",
    "print(shift_letter(\"Z\", 1)) \n",
    "print(shift_letter(\"X\", 5)) \n",
    "print(shift_letter(\" \", 10)) "
   ]
  },
  {
   "cell_type": "code",
   "execution_count": 21,
   "id": "5db23381",
   "metadata": {},
   "outputs": [
    {
     "data": {
      "text/plain": [
       "'IFMMP XPSME'"
      ]
     },
     "execution_count": 21,
     "metadata": {},
     "output_type": "execute_result"
    }
   ],
   "source": [
    "def caesar_cipher(message, shift):\n",
    "    '''Caesar Cipher. \n",
    "    6 points.\n",
    "    \n",
    "    Apply a shift number to a string of uppercase English letters and spaces.\n",
    "\n",
    "    Parameters\n",
    "    ----------\n",
    "    message: str\n",
    "        a string of uppercase English letters and spaces.\n",
    "    shift: int\n",
    "        the number by which to shift the letters. \n",
    "\n",
    "    Returns\n",
    "    -------\n",
    "    str\n",
    "        the message, shifted appropriately.\n",
    "    '''\n",
    "    # Replace `pass` with your code. \n",
    "    # Stay within the function. Only use the parameters as input. The function should return your answer.\n",
    "    \n",
    "    cipher_message = \"\"\n",
    "    \n",
    "    for letter in message:\n",
    "        if letter.isupper():\n",
    "            shifted_ascii = ord(letter) + shift\n",
    "            if shifted_ascii > ord(\"Z\"):\n",
    "                shifted_ascii -= 26\n",
    "            cipher_message += chr(shifted_ascii)\n",
    "        elif letter == \" \":\n",
    "            cipher_message += \" \"\n",
    "    return cipher_message\n",
    "\n",
    "caesar_cipher(\"HELLO WORLD\", 1)"
   ]
  },
  {
   "cell_type": "code",
   "execution_count": 41,
   "id": "4a19dddc",
   "metadata": {},
   "outputs": [
    {
     "name": "stdout",
     "output_type": "stream",
     "text": [
      "W\n",
      "Y\n",
      "A\n",
      " \n",
      "J\n"
     ]
    }
   ],
   "source": [
    "def shift_by_letter(letter, letter_shift):\n",
    "    '''Shift By Letter. \n",
    "    4 points.\n",
    "    \n",
    "    Shift a letter to the right using the number equivalent of another letter.\n",
    "    The shift letter is any letter from A to Z, where A represents 0, B represents 1, \n",
    "        ..., Z represents 25.\n",
    "\n",
    "    Examples:\n",
    "    shift_by_letter(\"A\", \"A\") -> \"A\"\n",
    "    shift_by_letter(\"A\", \"C\") -> \"C\"\n",
    "    shift_by_letter(\"B\", \"K\") -> \"L\"\n",
    "    shift_by_letter(\" \", _) -> \" \"\n",
    "\n",
    "    Parameters\n",
    "    ----------\n",
    "    letter: str\n",
    "        a single uppercase English letter, or a space.\n",
    "    letter_shift: str\n",
    "        a single uppercase English letter.\n",
    "\n",
    "    Returns\n",
    "    -------\n",
    "    str\n",
    "        the letter, shifted appropriately.\n",
    "    '''\n",
    "    # Replace `pass` with your code. \n",
    "    # Stay within the function. Only use the parameters as input. The function should return your answer.\n",
    "    \n",
    "    alphabet = [chr(i) for i in range(65, 91)]\n",
    "    \n",
    "    if letter == \" \":\n",
    "        return \" \"\n",
    "    else:\n",
    "        final_letter = (alphabet.index(letter) + alphabet.index(letter_shift)) % 26\n",
    "        return(alphabet[final_letter])\n",
    "    \n",
    "print(shift_by_letter(\"A\", \"W\"))\n",
    "print(shift_by_letter(\"B\", \"X\")) \n",
    "print(shift_by_letter(\"C\", \"Y\")) \n",
    "print(shift_by_letter(\" \", _)) \n",
    "print(shift_by_letter(\"L\", \"Y\")) "
   ]
  },
  {
   "cell_type": "code",
   "execution_count": 1,
   "id": "4c13a543",
   "metadata": {},
   "outputs": [
    {
     "name": "stdout",
     "output_type": "stream",
     "text": [
      "K A\n",
      "WYAC\n",
      "RIJVS GSPVH\n"
     ]
    }
   ],
   "source": [
    "def vigenere_cipher(message, key):\n",
    "    '''Vigenere Cipher. \n",
    "    6 points.\n",
    "    \n",
    "    Encrypts a message using a keyphrase instead of a static number.\n",
    "    Every letter in the message is shifted by the number represented by the \n",
    "        respective letter in the key.\n",
    "    Spaces should be ignored.\n",
    "\n",
    "    Example:\n",
    "    vigenere_cipher(\"A C\", \"KEY\") -> \"K A\"\n",
    "\n",
    "    If needed, the keyphrase is extended to match the length of the key.\n",
    "        If the key is \"KEY\" and the message is \"LONGTEXT\",\n",
    "        the key will be extended to be \"KEYKEYKE\".\n",
    "\n",
    "    Parameters\n",
    "    ----------\n",
    "    message: str\n",
    "        a string of uppercase English letters and spaces.\n",
    "    key: str\n",
    "        a string of uppercase English letters. Will never be longer than the message.\n",
    "        Will never contain spaces.\n",
    "\n",
    "    Returns\n",
    "    -------\n",
    "    str\n",
    "        the message, shifted appropriately.\n",
    "    '''\n",
    "    # Replace `pass` with your code. \n",
    "    # Stay within the function. Only use the parameters as input. The function should return your answer.\n",
    "    \n",
    "    alphabet = [chr(i) for i in range(65, 91)]\n",
    "    \n",
    "    key = key * (len(message) // len(key)) + key[:len(message) % len(key)]\n",
    "    result = \"\"\n",
    "\n",
    "    for i in range(len(message)):\n",
    "        if message[i] == ' ':\n",
    "            result += \" \"\n",
    "        else:\n",
    "            message_index = alphabet.index(message[i])\n",
    "            key_index = alphabet.index(key[i])\n",
    "            \n",
    "            encrypted_letter_index = (message_index + key_index) % 26\n",
    "            result += alphabet[encrypted_letter_index]\n",
    "\n",
    "    return result\n",
    "\n",
    "print(vigenere_cipher(\"A C\", \"KEY\"))\n",
    "print(vigenere_cipher(\"ABCD\", \"WXYZ\"))\n",
    "print(vigenere_cipher(\"HELLO WORLD\", \"KEY\"))"
   ]
  }
 ],
 "metadata": {
  "kernelspec": {
   "display_name": "Python 3 (ipykernel)",
   "language": "python",
   "name": "python3"
  },
  "language_info": {
   "codemirror_mode": {
    "name": "ipython",
    "version": 3
   },
   "file_extension": ".py",
   "mimetype": "text/x-python",
   "name": "python",
   "nbconvert_exporter": "python",
   "pygments_lexer": "ipython3",
   "version": "3.11.4"
  }
 },
 "nbformat": 4,
 "nbformat_minor": 5
}
